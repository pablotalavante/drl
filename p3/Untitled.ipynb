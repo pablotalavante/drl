{
 "cells": [
  {
   "cell_type": "markdown",
   "metadata": {},
   "source": [
    "# Initialize the environment"
   ]
  },
  {
   "cell_type": "code",
   "execution_count": 1,
   "metadata": {},
   "outputs": [],
   "source": [
    "from unityagents import UnityEnvironment\n",
    "import numpy as np\n",
    "import torch\n",
    "from collections import deque"
   ]
  },
  {
   "cell_type": "code",
   "execution_count": 2,
   "metadata": {},
   "outputs": [
    {
     "name": "stderr",
     "output_type": "stream",
     "text": [
      "INFO:unityagents:\n",
      "'Academy' started successfully!\n",
      "Unity Academy name: Academy\n",
      "        Number of Brains: 1\n",
      "        Number of External Brains : 1\n",
      "        Lesson number : 0\n",
      "        Reset Parameters :\n",
      "\t\t\n",
      "Unity brain name: TennisBrain\n",
      "        Number of Visual Observations (per agent): 0\n",
      "        Vector Observation space type: continuous\n",
      "        Vector Observation space size (per agent): 8\n",
      "        Number of stacked Vector Observation: 3\n",
      "        Vector Action space type: continuous\n",
      "        Vector Action space size (per agent): 2\n",
      "        Vector Action descriptions: , \n"
     ]
    }
   ],
   "source": [
    "env = UnityEnvironment(file_name=\"Tennis.app\")\n",
    "\n",
    "# get the default brain\n",
    "brain_name = env.brain_names[0]\n",
    "brain = env.brains[brain_name]"
   ]
  },
  {
   "cell_type": "markdown",
   "metadata": {},
   "source": [
    "# Create the Agent (Actor + Critic)"
   ]
  },
  {
   "cell_type": "code",
   "execution_count": 3,
   "metadata": {},
   "outputs": [],
   "source": [
    "from model import Actor, Critic\n",
    "from randomProcess import OrnsteinUhlenbeckNoise\n",
    "from replayBuffer import ReplayBuffer"
   ]
  },
  {
   "cell_type": "code",
   "execution_count": 8,
   "metadata": {},
   "outputs": [],
   "source": [
    "import torch.optim as optim\n",
    "import torch.nn.functional as F\n",
    "\n",
    "class DDPG_Agent():\n",
    "    def __init__(self,state_size,action_size,index):\n",
    "        self.action_size = action_size\n",
    "        self.state_size = state_size\n",
    "        self.index = index\n",
    "        \n",
    "        self.actor_local = Actor(state_size,action_size).to(device)\n",
    "        self.actor_target = Actor(state_size,action_size).to(device)\n",
    "        self.actor_optimizer = optim.Adam(self.actor_local.parameters(),lr = LR_ACTOR)\n",
    "        self.critic_local = Critic(state_size,action_size).to(device)\n",
    "        self.critic_target = Critic(state_size,action_size).to(device)\n",
    "        self.critic_optimizer = optim.Adam(self.critic_local.parameters(),lr = LR_CRITIC)\n",
    "        \n",
    "        # hard copy of local and target\n",
    "        self.hard_update(self.actor_target, self.actor_local)\n",
    "        self.hard_update(self.critic_target,self.critic_local)\n",
    "        \n",
    "        self.noise = OrnsteinUhlenbeckNoise(action_size)\n",
    "        self.timesteps = 0\n",
    "        \n",
    "    def hard_update(self,target,source):\n",
    "        for target_params,source_params in zip(target.parameters(),source.parameters()):\n",
    "            target_params.data.copy_(source_params.data)\n",
    "        \n",
    "       \n",
    "    def act(self,state,add_noise = True):\n",
    "        state = torch.from_numpy(state).float().to(device)\n",
    "        self.actor_local.eval()\n",
    "        with torch.no_grad():\n",
    "            action = self.actor_local(state).cpu().data.numpy()\n",
    "        self.actor_local.train()\n",
    "        if add_noise:\n",
    "            action += self.noise.sample()\n",
    "        return np.clip(action,-1,1)\n",
    "    \n",
    "    def reset(self):\n",
    "        self.noise.reset() \n",
    "    \n",
    "    def learn(self,experiences):\n",
    "        \n",
    "        states,actions,rewards,next_states,dones = experiences\n",
    "        whole_states = torch.cat(states, dim=1).to(device)\n",
    "        whole_next_states = torch.cat(next_states, dim=1).to(device)\n",
    "        whole_actions = torch.cat(actions, dim=1).to(device)\n",
    "        \n",
    "        \n",
    "        next_actions = [actions[index].clone() for index in range(num_agents)]\n",
    "        next_actions[self.index] = self.actor_target(next_states[self.index])\n",
    "        whole_next_actions = torch.cat(next_actions, dim=1).to(device)\n",
    "        \n",
    "        Q_target_next = self.critic_target(whole_next_states,whole_next_actions)\n",
    "        Q_target = rewards[self.index] + GAMMA * Q_target_next *(1-dones[self.index])\n",
    "        Q_exp = self.critic_local(whole_states,whole_actions)\n",
    "        critic_loss = F.mse_loss(Q_exp,Q_target)\n",
    "        self.critic_optimizer.zero_grad()\n",
    "        critic_loss.backward()\n",
    "        #torch.nn.utils.clip_grad_norm_(self.critic_local.parameters(), 1)\n",
    "        self.critic_optimizer.step()\n",
    "        \n",
    "        actions_pred = [actions[index].clone() for index in range(num_agents)]\n",
    "        actions_pred[self.index] = self.actor_local(states[self.index])\n",
    "        whole_actions_pred = torch.cat(actions_pred, dim=1).to(device)\n",
    "        \n",
    "        self.actor_optimizer.zero_grad()\n",
    "        actor_loss = -self.critic_local(whole_states, whole_actions_pred).mean()\n",
    "        actor_loss.backward()\n",
    "        self.actor_optimizer.step()\n",
    "\n",
    "\n",
    "        self.soft_update(self.critic_local, self.critic_target, TAU)\n",
    "        self.soft_update(self.actor_local, self.actor_target, TAU)\n",
    "        \n",
    "        \n",
    "    def soft_update(self,local,target,tau):\n",
    "        for target_params,local_params in zip(target.parameters(),local.parameters()):\n",
    "            target_params.data.copy_(tau * local_params.data + (1.0 - tau) * target_params.data)"
   ]
  },
  {
   "cell_type": "markdown",
   "metadata": {},
   "source": [
    "# Multiagent "
   ]
  },
  {
   "cell_type": "code",
   "execution_count": 9,
   "metadata": {},
   "outputs": [],
   "source": [
    "class MADDPG():\n",
    "    \n",
    "    def __init__(self, num_agents, state_size, action_size):\n",
    "        self.num_agents = num_agents\n",
    "        self.state_size = state_size\n",
    "        self.action_size = action_size\n",
    "        # Shared memory buffer\n",
    "        self.memory = ReplayBuffer(BUFFER_SIZE, BATCH_SIZE)\n",
    "        # a DDPG Agent for each agent\n",
    "        self.agents = [DDPG_Agent(state_size,action_size,x)  for x in range(num_agents)]\n",
    "        \n",
    "        \n",
    "    def reset(self):\n",
    "        for agent in self.agents:\n",
    "            agent.reset()\n",
    "    \n",
    "    def act(self,state,add_noise = True):\n",
    "        action = np.zeros([self.num_agents, self.action_size])\n",
    "        for index,agent in enumerate(self.agents):\n",
    "            action[index,:] = agent.act(state[index],add_noise = add_noise)\n",
    "        return action\n",
    "    \n",
    "    def step(self,states,actions,rewards,next_states,dones):\n",
    "        self.memory.add(states,actions,rewards,next_states,dones)\n",
    "        \n",
    "        if len(self.memory) > BATCH_SIZE:\n",
    "            experiences = self.memory.sample()\n",
    "            for index,agent in enumerate(self.agents):\n",
    "                agent.learn(experiences)"
   ]
  },
  {
   "cell_type": "code",
   "execution_count": 10,
   "metadata": {},
   "outputs": [],
   "source": [
    "num_agents = 2\n",
    "state_size = 24\n",
    "action_size = 2\n",
    "\n",
    "LR_ACTOR = 10e-3               \n",
    "LR_CRITIC = 10e-3                \n",
    "TAU = 0.001                     \n",
    "GAMMA = 0.99\n",
    "BUFFER_SIZE = int(1e5)          \n",
    "BATCH_SIZE = 128                \n",
    "RANDOM_SEED = 42               \n",
    "UPDATE_EVERY = 10   \n",
    "\n",
    "n_episodes = 2000\n",
    "\n",
    "device = torch.device(\"cuda:0\" if torch.cuda.is_available() else \"cpu\")\n",
    "\n",
    "multi_agent = MADDPG(num_agents, state_size, action_size)"
   ]
  },
  {
   "cell_type": "code",
   "execution_count": 11,
   "metadata": {},
   "outputs": [
    {
     "name": "stdout",
     "output_type": "stream",
     "text": [
      "Episode 10\tAverage Score: 0.0000\n",
      "Episode 20\tAverage Score: 0.0000\n",
      "Episode 30\tAverage Score: 0.0100\n",
      "Episode 40\tAverage Score: 0.0000\n",
      "Episode 50\tAverage Score: 0.0000\n",
      "Episode 60\tAverage Score: 0.0100\n",
      "Episode 70\tAverage Score: 0.0100\n",
      "Episode 80\tAverage Score: 0.0000\n",
      "Episode 90\tAverage Score: 0.0000\n",
      "Episode 100\tAverage Score: 0.0000\n",
      "Episode 110\tAverage Score: 0.0000\n",
      "Episode 120\tAverage Score: 0.0000\n",
      "Episode 130\tAverage Score: 0.0000\n",
      "Episode 140\tAverage Score: 0.0000\n",
      "Episode 150\tAverage Score: 0.0000\n",
      "Episode 160\tAverage Score: 0.0000\n",
      "Episode 170\tAverage Score: 0.0000\n",
      "Episode 180\tAverage Score: 0.0000\n",
      "Episode 190\tAverage Score: 0.0000\n",
      "Episode 200\tAverage Score: 0.0000\n",
      "Episode 210\tAverage Score: 0.0000\n",
      "Episode 220\tAverage Score: 0.0000\n",
      "Episode 230\tAverage Score: 0.0000\n",
      "Episode 240\tAverage Score: 0.0000\n",
      "Episode 250\tAverage Score: 0.0000\n",
      "Episode 260\tAverage Score: 0.0000\n",
      "Episode 270\tAverage Score: 0.0000\n",
      "Episode 280\tAverage Score: 0.0000\n",
      "Episode 290\tAverage Score: 0.0000\n",
      "Episode 300\tAverage Score: 0.0000\n",
      "Episode 310\tAverage Score: 0.0000\n",
      "Episode 320\tAverage Score: 0.0000\n",
      "Episode 330\tAverage Score: 0.0000\n",
      "Episode 340\tAverage Score: 0.0000\n",
      "Episode 350\tAverage Score: 0.0000\n",
      "Episode 360\tAverage Score: 0.0100\n",
      "Episode 370\tAverage Score: 0.0000\n",
      "Episode 380\tAverage Score: 0.0000\n",
      "Episode 390\tAverage Score: 0.0100\n",
      "Episode 400\tAverage Score: 0.0000\n",
      "Episode 410\tAverage Score: 0.0000\n",
      "Episode 420\tAverage Score: 0.0000\n",
      "Episode 430\tAverage Score: 0.0000\n",
      "Episode 440\tAverage Score: 0.0000\n",
      "Episode 450\tAverage Score: 0.0000\n",
      "Episode 460\tAverage Score: 0.0000\n",
      "Episode 470\tAverage Score: 0.0000\n",
      "Episode 480\tAverage Score: 0.0000\n",
      "Episode 490\tAverage Score: 0.0000\n",
      "Episode 500\tAverage Score: 0.0000\n",
      "Episode 510\tAverage Score: 0.0000\n",
      "Episode 520\tAverage Score: 0.0000\n",
      "Episode 530\tAverage Score: 0.0000\n",
      "Episode 540\tAverage Score: 0.0000\n",
      "Episode 550\tAverage Score: 0.0000\n",
      "Episode 560\tAverage Score: 0.0000\n",
      "Episode 570\tAverage Score: 0.0000\n",
      "Episode 580\tAverage Score: 0.0100\n",
      "Episode 590\tAverage Score: 0.0000\n",
      "Episode 600\tAverage Score: 0.0000\n",
      "Episode 610\tAverage Score: 0.0000\n",
      "Episode 620\tAverage Score: 0.0000\n",
      "Episode 630\tAverage Score: 0.0000\n",
      "Episode 640\tAverage Score: 0.0000\n",
      "Episode 650\tAverage Score: 0.0000\n",
      "Episode 660\tAverage Score: 0.0000\n",
      "Episode 670\tAverage Score: 0.0000\n",
      "Episode 680\tAverage Score: 0.0000\n",
      "Episode 690\tAverage Score: 0.0000\n",
      "Episode 700\tAverage Score: 0.0000\n",
      "Episode 710\tAverage Score: 0.0000\n",
      "Episode 720\tAverage Score: 0.0000\n",
      "Episode 730\tAverage Score: 0.0000\n",
      "Episode 740\tAverage Score: 0.0000\n",
      "Episode 750\tAverage Score: 0.0000\n",
      "Episode 760\tAverage Score: 0.0000\n",
      "Episode 770\tAverage Score: 0.0000\n",
      "Episode 780\tAverage Score: 0.0000\n",
      "Episode 790\tAverage Score: 0.0000\n",
      "Episode 800\tAverage Score: 0.0000\n",
      "Episode 810\tAverage Score: 0.0000\n",
      "Episode 820\tAverage Score: 0.0100\n",
      "Episode 830\tAverage Score: 0.0000\n",
      "Episode 840\tAverage Score: 0.0000\n",
      "Episode 850\tAverage Score: 0.0000\n",
      "Episode 860\tAverage Score: 0.0000\n",
      "Episode 870\tAverage Score: 0.0000\n",
      "Episode 880\tAverage Score: 0.0000\n",
      "Episode 890\tAverage Score: 0.0000\n",
      "Episode 900\tAverage Score: 0.0000\n",
      "Episode 910\tAverage Score: 0.0000\n",
      "Episode 920\tAverage Score: 0.0000\n",
      "Episode 930\tAverage Score: 0.0000\n",
      "Episode 940\tAverage Score: 0.0000\n",
      "Episode 950\tAverage Score: 0.0000\n",
      "Episode 960\tAverage Score: 0.0000\n",
      "Episode 970\tAverage Score: 0.0000\n",
      "Episode 980\tAverage Score: 0.0000\n",
      "Episode 990\tAverage Score: 0.0000\n",
      "Episode 1000\tAverage Score: 0.0000\n",
      "Episode 1010\tAverage Score: 0.0000\n",
      "Episode 1020\tAverage Score: 0.0000\n",
      "Episode 1030\tAverage Score: 0.0000\n",
      "Episode 1040\tAverage Score: 0.0000\n",
      "Episode 1050\tAverage Score: 0.0000\n",
      "Episode 1060\tAverage Score: 0.0000\n",
      "Episode 1070\tAverage Score: 0.0000\n",
      "Episode 1080\tAverage Score: 0.0000\n",
      "Episode 1090\tAverage Score: 0.0000\n",
      "Episode 1100\tAverage Score: 0.0000\n",
      "Episode 1110\tAverage Score: 0.0000\n",
      "Episode 1120\tAverage Score: 0.0000\n",
      "Episode 1130\tAverage Score: 0.0000\n",
      "Episode 1140\tAverage Score: 0.0000\n",
      "Episode 1150\tAverage Score: 0.0000\n",
      "Episode 1160\tAverage Score: 0.0000\n",
      "Episode 1170\tAverage Score: 0.0000\n",
      "Episode 1180\tAverage Score: 0.0000\n",
      "Episode 1190\tAverage Score: 0.0000\n",
      "Episode 1200\tAverage Score: 0.0000\n",
      "Episode 1210\tAverage Score: 0.0000\n",
      "Episode 1213\tAverage Score: 0.0000"
     ]
    },
    {
     "ename": "KeyboardInterrupt",
     "evalue": "",
     "output_type": "error",
     "traceback": [
      "\u001b[0;31m---------------------------------------------------------------------------\u001b[0m",
      "\u001b[0;31mKeyboardInterrupt\u001b[0m                         Traceback (most recent call last)",
      "\u001b[0;32m<ipython-input-11-5f6c78662eca>\u001b[0m in \u001b[0;36m<module>\u001b[0;34m\u001b[0m\n\u001b[1;32m     13\u001b[0m         \u001b[0mrewards\u001b[0m \u001b[0;34m=\u001b[0m \u001b[0menv_info\u001b[0m\u001b[0;34m.\u001b[0m\u001b[0mrewards\u001b[0m\u001b[0;34m\u001b[0m\u001b[0;34m\u001b[0m\u001b[0m\n\u001b[1;32m     14\u001b[0m         \u001b[0mdones\u001b[0m \u001b[0;34m=\u001b[0m \u001b[0menv_info\u001b[0m\u001b[0;34m.\u001b[0m\u001b[0mlocal_done\u001b[0m\u001b[0;34m\u001b[0m\u001b[0;34m\u001b[0m\u001b[0m\n\u001b[0;32m---> 15\u001b[0;31m         \u001b[0mmulti_agent\u001b[0m\u001b[0;34m.\u001b[0m\u001b[0mstep\u001b[0m\u001b[0;34m(\u001b[0m\u001b[0mstates\u001b[0m\u001b[0;34m,\u001b[0m\u001b[0mactions\u001b[0m\u001b[0;34m,\u001b[0m\u001b[0mrewards\u001b[0m\u001b[0;34m,\u001b[0m\u001b[0mnext_states\u001b[0m\u001b[0;34m,\u001b[0m\u001b[0mdones\u001b[0m\u001b[0;34m)\u001b[0m\u001b[0;34m\u001b[0m\u001b[0;34m\u001b[0m\u001b[0m\n\u001b[0m\u001b[1;32m     16\u001b[0m         \u001b[0mscores\u001b[0m \u001b[0;34m+=\u001b[0m \u001b[0mrewards\u001b[0m\u001b[0;34m\u001b[0m\u001b[0;34m\u001b[0m\u001b[0m\n\u001b[1;32m     17\u001b[0m         \u001b[0mstates\u001b[0m \u001b[0;34m=\u001b[0m \u001b[0mnext_states\u001b[0m\u001b[0;34m\u001b[0m\u001b[0;34m\u001b[0m\u001b[0m\n",
      "\u001b[0;32m<ipython-input-9-530c80c5bc5a>\u001b[0m in \u001b[0;36mstep\u001b[0;34m(self, states, actions, rewards, next_states, dones)\u001b[0m\n\u001b[1;32m     25\u001b[0m \u001b[0;34m\u001b[0m\u001b[0m\n\u001b[1;32m     26\u001b[0m         \u001b[0;32mif\u001b[0m \u001b[0mlen\u001b[0m\u001b[0;34m(\u001b[0m\u001b[0mself\u001b[0m\u001b[0;34m.\u001b[0m\u001b[0mmemory\u001b[0m\u001b[0;34m)\u001b[0m \u001b[0;34m>\u001b[0m \u001b[0mBATCH_SIZE\u001b[0m\u001b[0;34m:\u001b[0m\u001b[0;34m\u001b[0m\u001b[0;34m\u001b[0m\u001b[0m\n\u001b[0;32m---> 27\u001b[0;31m             \u001b[0mexperiences\u001b[0m \u001b[0;34m=\u001b[0m \u001b[0mself\u001b[0m\u001b[0;34m.\u001b[0m\u001b[0mmemory\u001b[0m\u001b[0;34m.\u001b[0m\u001b[0msample\u001b[0m\u001b[0;34m(\u001b[0m\u001b[0;34m)\u001b[0m\u001b[0;34m\u001b[0m\u001b[0;34m\u001b[0m\u001b[0m\n\u001b[0m\u001b[1;32m     28\u001b[0m             \u001b[0;32mfor\u001b[0m \u001b[0mindex\u001b[0m\u001b[0;34m,\u001b[0m\u001b[0magent\u001b[0m \u001b[0;32min\u001b[0m \u001b[0menumerate\u001b[0m\u001b[0;34m(\u001b[0m\u001b[0mself\u001b[0m\u001b[0;34m.\u001b[0m\u001b[0magents\u001b[0m\u001b[0;34m)\u001b[0m\u001b[0;34m:\u001b[0m\u001b[0;34m\u001b[0m\u001b[0;34m\u001b[0m\u001b[0m\n\u001b[1;32m     29\u001b[0m                 \u001b[0magent\u001b[0m\u001b[0;34m.\u001b[0m\u001b[0mlearn\u001b[0m\u001b[0;34m(\u001b[0m\u001b[0mexperiences\u001b[0m\u001b[0;34m)\u001b[0m\u001b[0;34m\u001b[0m\u001b[0;34m\u001b[0m\u001b[0m\n",
      "\u001b[0;32m~/RL/udacity/drl/p3/replayBuffer.py\u001b[0m in \u001b[0;36msample\u001b[0;34m(self)\u001b[0m\n\u001b[1;32m     20\u001b[0m \u001b[0;34m\u001b[0m\u001b[0m\n\u001b[1;32m     21\u001b[0m     \u001b[0;32mdef\u001b[0m \u001b[0msample\u001b[0m\u001b[0;34m(\u001b[0m\u001b[0mself\u001b[0m\u001b[0;34m)\u001b[0m\u001b[0;34m:\u001b[0m\u001b[0;34m\u001b[0m\u001b[0;34m\u001b[0m\u001b[0m\n\u001b[0;32m---> 22\u001b[0;31m         \u001b[0mexperiences\u001b[0m \u001b[0;34m=\u001b[0m \u001b[0mrandom\u001b[0m\u001b[0;34m.\u001b[0m\u001b[0msample\u001b[0m\u001b[0;34m(\u001b[0m\u001b[0mself\u001b[0m\u001b[0;34m.\u001b[0m\u001b[0mmemory\u001b[0m\u001b[0;34m,\u001b[0m \u001b[0mk\u001b[0m \u001b[0;34m=\u001b[0m \u001b[0mself\u001b[0m\u001b[0;34m.\u001b[0m\u001b[0mbatch_size\u001b[0m\u001b[0;34m)\u001b[0m\u001b[0;34m\u001b[0m\u001b[0;34m\u001b[0m\u001b[0m\n\u001b[0m\u001b[1;32m     23\u001b[0m         \u001b[0mstates\u001b[0m \u001b[0;34m=\u001b[0m \u001b[0;34m[\u001b[0m\u001b[0mtorch\u001b[0m\u001b[0;34m.\u001b[0m\u001b[0mfrom_numpy\u001b[0m\u001b[0;34m(\u001b[0m\u001b[0mnp\u001b[0m\u001b[0;34m.\u001b[0m\u001b[0mvstack\u001b[0m\u001b[0;34m(\u001b[0m\u001b[0;34m[\u001b[0m\u001b[0me\u001b[0m\u001b[0;34m.\u001b[0m\u001b[0mstates\u001b[0m\u001b[0;34m[\u001b[0m\u001b[0mindex\u001b[0m\u001b[0;34m]\u001b[0m \u001b[0;32mfor\u001b[0m \u001b[0me\u001b[0m \u001b[0;32min\u001b[0m \u001b[0mexperiences\u001b[0m \u001b[0;32mif\u001b[0m \u001b[0me\u001b[0m \u001b[0;32mis\u001b[0m \u001b[0;32mnot\u001b[0m \u001b[0;32mNone\u001b[0m\u001b[0;34m]\u001b[0m\u001b[0;34m)\u001b[0m\u001b[0;34m)\u001b[0m\u001b[0;34m.\u001b[0m\u001b[0mfloat\u001b[0m\u001b[0;34m(\u001b[0m\u001b[0;34m)\u001b[0m\u001b[0;34m.\u001b[0m\u001b[0mto\u001b[0m\u001b[0;34m(\u001b[0m\u001b[0mdevice\u001b[0m\u001b[0;34m)\u001b[0m \u001b[0;32mfor\u001b[0m \u001b[0mindex\u001b[0m \u001b[0;32min\u001b[0m \u001b[0mrange\u001b[0m\u001b[0;34m(\u001b[0m\u001b[0mself\u001b[0m\u001b[0;34m.\u001b[0m\u001b[0mnum_agents\u001b[0m\u001b[0;34m)\u001b[0m\u001b[0;34m]\u001b[0m\u001b[0;34m\u001b[0m\u001b[0;34m\u001b[0m\u001b[0m\n\u001b[1;32m     24\u001b[0m         \u001b[0mactions\u001b[0m \u001b[0;34m=\u001b[0m \u001b[0;34m[\u001b[0m\u001b[0mtorch\u001b[0m\u001b[0;34m.\u001b[0m\u001b[0mfrom_numpy\u001b[0m\u001b[0;34m(\u001b[0m\u001b[0mnp\u001b[0m\u001b[0;34m.\u001b[0m\u001b[0mvstack\u001b[0m\u001b[0;34m(\u001b[0m\u001b[0;34m[\u001b[0m\u001b[0me\u001b[0m\u001b[0;34m.\u001b[0m\u001b[0mactions\u001b[0m\u001b[0;34m[\u001b[0m\u001b[0mindex\u001b[0m\u001b[0;34m]\u001b[0m \u001b[0;32mfor\u001b[0m \u001b[0me\u001b[0m \u001b[0;32min\u001b[0m \u001b[0mexperiences\u001b[0m \u001b[0;32mif\u001b[0m \u001b[0me\u001b[0m \u001b[0;32mis\u001b[0m \u001b[0;32mnot\u001b[0m \u001b[0;32mNone\u001b[0m\u001b[0;34m]\u001b[0m\u001b[0;34m)\u001b[0m\u001b[0;34m)\u001b[0m\u001b[0;34m.\u001b[0m\u001b[0mfloat\u001b[0m\u001b[0;34m(\u001b[0m\u001b[0;34m)\u001b[0m\u001b[0;34m.\u001b[0m\u001b[0mto\u001b[0m\u001b[0;34m(\u001b[0m\u001b[0mdevice\u001b[0m\u001b[0;34m)\u001b[0m \u001b[0;32mfor\u001b[0m \u001b[0mindex\u001b[0m \u001b[0;32min\u001b[0m \u001b[0mrange\u001b[0m\u001b[0;34m(\u001b[0m\u001b[0mself\u001b[0m\u001b[0;34m.\u001b[0m\u001b[0mnum_agents\u001b[0m\u001b[0;34m)\u001b[0m\u001b[0;34m]\u001b[0m\u001b[0;34m\u001b[0m\u001b[0;34m\u001b[0m\u001b[0m\n",
      "\u001b[0;32m~/anaconda3/envs/drlnd/lib/python3.6/random.py\u001b[0m in \u001b[0;36msample\u001b[0;34m(self, population, k)\u001b[0m\n\u001b[1;32m    334\u001b[0m             \u001b[0mselected_add\u001b[0m \u001b[0;34m=\u001b[0m \u001b[0mselected\u001b[0m\u001b[0;34m.\u001b[0m\u001b[0madd\u001b[0m\u001b[0;34m\u001b[0m\u001b[0;34m\u001b[0m\u001b[0m\n\u001b[1;32m    335\u001b[0m             \u001b[0;32mfor\u001b[0m \u001b[0mi\u001b[0m \u001b[0;32min\u001b[0m \u001b[0mrange\u001b[0m\u001b[0;34m(\u001b[0m\u001b[0mk\u001b[0m\u001b[0;34m)\u001b[0m\u001b[0;34m:\u001b[0m\u001b[0;34m\u001b[0m\u001b[0;34m\u001b[0m\u001b[0m\n\u001b[0;32m--> 336\u001b[0;31m                 \u001b[0mj\u001b[0m \u001b[0;34m=\u001b[0m \u001b[0mrandbelow\u001b[0m\u001b[0;34m(\u001b[0m\u001b[0mn\u001b[0m\u001b[0;34m)\u001b[0m\u001b[0;34m\u001b[0m\u001b[0;34m\u001b[0m\u001b[0m\n\u001b[0m\u001b[1;32m    337\u001b[0m                 \u001b[0;32mwhile\u001b[0m \u001b[0mj\u001b[0m \u001b[0;32min\u001b[0m \u001b[0mselected\u001b[0m\u001b[0;34m:\u001b[0m\u001b[0;34m\u001b[0m\u001b[0;34m\u001b[0m\u001b[0m\n\u001b[1;32m    338\u001b[0m                     \u001b[0mj\u001b[0m \u001b[0;34m=\u001b[0m \u001b[0mrandbelow\u001b[0m\u001b[0;34m(\u001b[0m\u001b[0mn\u001b[0m\u001b[0;34m)\u001b[0m\u001b[0;34m\u001b[0m\u001b[0;34m\u001b[0m\u001b[0m\n",
      "\u001b[0;31mKeyboardInterrupt\u001b[0m: "
     ]
    }
   ],
   "source": [
    "scores_deque = deque(maxlen=10)\n",
    "scores_list = []\n",
    "\n",
    "for i_episode in range(1,n_episodes+1):                    \n",
    "    env_info = env.reset(train_mode=True)[brain_name]      \n",
    "    states = env_info.vector_observations                  \n",
    "    multi_agent.reset()\n",
    "    scores = np.zeros(num_agents)                          \n",
    "    while True:\n",
    "        actions = multi_agent.act(states)\n",
    "        env_info = env.step(actions)[brain_name]           \n",
    "        next_states = env_info.vector_observations         \n",
    "        rewards = env_info.rewards                         \n",
    "        dones = env_info.local_done                        \n",
    "        multi_agent.step(states,actions,rewards,next_states,dones)\n",
    "        scores += rewards \n",
    "        states = next_states                               \n",
    "        if np.any(dones):                               \n",
    "            break\n",
    "            \n",
    "    max_scores = np.max(scores)       \n",
    "    scores_deque.append(max_scores)\n",
    "    scores_list.append(max_scores)\n",
    "    average_score = np.mean(scores_deque)\n",
    "    print('\\rEpisode {}\\tAverage Score: {:.4f}'.format(i_episode, average_score), end=\"\")\n",
    "        \n",
    "    if(average_score >=  0.5):\n",
    "        maddpg.save()\n",
    "        break\n",
    "    if i_episode % 10 == 0:\n",
    "        print('\\rEpisode {}\\tAverage Score: {:.4f}'.format(i_episode, average_score))"
   ]
  },
  {
   "cell_type": "code",
   "execution_count": 12,
   "metadata": {},
   "outputs": [
    {
     "ename": "NameError",
     "evalue": "name 's' is not defined",
     "output_type": "error",
     "traceback": [
      "\u001b[0;31m---------------------------------------------------------------------------\u001b[0m",
      "\u001b[0;31mNameError\u001b[0m                                 Traceback (most recent call last)",
      "\u001b[0;32m<ipython-input-12-ded5ba42480f>\u001b[0m in \u001b[0;36m<module>\u001b[0;34m\u001b[0m\n\u001b[0;32m----> 1\u001b[0;31m \u001b[0ms\u001b[0m\u001b[0;34m\u001b[0m\u001b[0;34m\u001b[0m\u001b[0m\n\u001b[0m",
      "\u001b[0;31mNameError\u001b[0m: name 's' is not defined"
     ]
    }
   ],
   "source": [
    "s"
   ]
  },
  {
   "cell_type": "code",
   "execution_count": 14,
   "metadata": {},
   "outputs": [
    {
     "data": {
      "text/plain": [
       "array([[ -9.23119068,  -1.55886006, -30.        ,  -0.98100001,\n",
       "          7.5908556 ,   5.91759634, -30.        ,  -0.98100001,\n",
       "        -10.90504646,  -1.71581995,  -0.        ,  -1.96200001,\n",
       "          7.5908556 ,   5.74101639,  -0.        ,  -1.96200001,\n",
       "        -10.89979172,  -1.85235918,  -0.        ,   0.        ,\n",
       "          7.5908556 ,   5.46633625,  -0.        ,   0.        ],\n",
       "       [-10.67537212,  -0.98316395, -30.        ,   6.21520042,\n",
       "         -7.5908556 ,   5.91759634, -30.        ,   6.21520042,\n",
       "        -10.90028286,  -0.42050385,   0.        ,   5.23420095,\n",
       "         -7.5908556 ,   5.74101639,   0.        ,   5.23420095,\n",
       "        -10.89978886,   0.0440563 ,   0.        ,   4.25320148,\n",
       "         -7.5908556 ,   5.46633625,   0.        ,   4.25320148]])"
      ]
     },
     "execution_count": 14,
     "metadata": {},
     "output_type": "execute_result"
    }
   ],
   "source": [
    "states"
   ]
  },
  {
   "cell_type": "code",
   "execution_count": 15,
   "metadata": {},
   "outputs": [
    {
     "data": {
      "text/plain": [
       "array([[-1.        , -0.73484945],\n",
       "       [-0.92873263,  1.        ]])"
      ]
     },
     "execution_count": 15,
     "metadata": {},
     "output_type": "execute_result"
    }
   ],
   "source": [
    "actions"
   ]
  },
  {
   "cell_type": "code",
   "execution_count": null,
   "metadata": {},
   "outputs": [],
   "source": []
  }
 ],
 "metadata": {
  "kernelspec": {
   "display_name": "drlnd",
   "language": "python",
   "name": "drlnd"
  },
  "language_info": {
   "codemirror_mode": {
    "name": "ipython",
    "version": 3
   },
   "file_extension": ".py",
   "mimetype": "text/x-python",
   "name": "python",
   "nbconvert_exporter": "python",
   "pygments_lexer": "ipython3",
   "version": "3.6.10"
  }
 },
 "nbformat": 4,
 "nbformat_minor": 4
}
